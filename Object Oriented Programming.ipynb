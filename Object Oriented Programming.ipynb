{
 "cells": [
  {
   "cell_type": "markdown",
   "id": "09abf1fc",
   "metadata": {},
   "source": [
    "# Class & Object"
   ]
  },
  {
   "cell_type": "markdown",
   "id": "fb57ec72",
   "metadata": {},
   "source": [
    "<p> Class হচ্ছে অব্জেক্টের Blue-Print. এই class Blue-print থেকে আমরা অব্জেক্ট তৈরী করি। Object হচ্ছে ক্লাসের Instance(ঊদাহরণ)। </p>\n",
    "<b> Class এর Components: </b>\n",
    "<ul>\n",
    "    <li>Data(the attributes about it)</li>\n",
    "    <li>Behaviour(the Methods)</li>\n",
    "</ul>\n"
   ]
  },
  {
   "cell_type": "markdown",
   "id": "5cd34dc9",
   "metadata": {},
   "source": [
    "# Constructor"
   ]
  },
  {
   "cell_type": "markdown",
   "id": "f1eeefd2",
   "metadata": {},
   "source": [
    "<p>Constructor হচ্ছে এমন এক ধরণের Method যেটা আমরা use করি কোনো class এর instance member initialize করার জন্য। সোজা কথায় যদি আমরা কোনো class এর অব্জেক্ট তৈরি করি তখন এই Constructor by default(Auto) call হবে। Constructor একটা অব্জেক্টের জন্য একবারই call হবে। প্রতিটা class এরই একটা constructor থাকা লাগে।</p>\n",
    "<b>Constructor দুই রকমের: </b>\n",
    "<ul>\n",
    "    <li>Non-parameterized Constructor(Default Constructor)</li>\n",
    "    <li>Parameterized Constructor</li>\n",
    "</ul>"
   ]
  },
  {
   "cell_type": "markdown",
   "id": "0a6012ab",
   "metadata": {},
   "source": [
    "# Python __init__"
   ]
  },
  {
   "cell_type": "markdown",
   "id": "163909bc",
   "metadata": {},
   "source": [
    "<p>Python এর OOP কনসেপ্টে \"__init__\" বলতে Constructor কে বুঝায়। এইটা মূলত পাইথনের রিজার্ভড একটি মেথড। যখন একটা Class থেকে Object তৈরী করা হয় তখন এই মেথড call করা হয় এবং তখন এটা ঐ class কে অনু্মতি দেয় তার attribute তৈরী করার জন্য। এই __init__ মেথডে অনেক গুলো Argument pass করা যায় কিন্তু প্রথমে <b>self</b> keyword টা দেয়া লাগে কারণ এটা তখন ঐ ক্লাসের বিভিন্ন মেথড আর এট্রিবিউট এক্সেস করার অনুমতি দেয়। এটাকে Default constructor/Non-parameterized Constructor ও বলা হয়। </p>"
   ]
  },
  {
   "cell_type": "markdown",
   "id": "1486acd5",
   "metadata": {},
   "source": [
    "# Parameterized, Non-parameterized & Default Constructor এর কিছু উদাহরণ"
   ]
  },
  {
   "cell_type": "code",
   "execution_count": 4,
   "id": "b9b93e83",
   "metadata": {},
   "outputs": [],
   "source": [
    "#এখানে default constructor(built-in) রয়েছে\n",
    "class Employee:\n",
    "    pass\n",
    "emp1 = Employee()\n",
    "emp2 = Employee()"
   ]
  },
  {
   "cell_type": "code",
   "execution_count": 5,
   "id": "48274d77",
   "metadata": {},
   "outputs": [
    {
     "name": "stdout",
     "output_type": "stream",
     "text": [
      "Employee object created\n",
      "Employee object created\n"
     ]
    }
   ],
   "source": [
    "#এখানে Non-parameterized Constructor রয়েছে\n",
    "class Employee:\n",
    "    #Non-parameterized Constructor(self ছাড়া কোনো argument নাই)\n",
    "    def __init__(self):\n",
    "        print(\"Employee object created\")\n",
    "emp1 = Employee()\n",
    "emp2 = Employee()"
   ]
  },
  {
   "cell_type": "code",
   "execution_count": 7,
   "id": "8f6f5110",
   "metadata": {},
   "outputs": [
    {
     "name": "stdout",
     "output_type": "stream",
     "text": [
      "Jhon created\n",
      "David created\n"
     ]
    }
   ],
   "source": [
    "#এখানে Parameterized Constructor রয়েছে\n",
    "class Employee:\n",
    "    #parameterized constructor\n",
    "    def __init__(self,name):\n",
    "        self.name = name #instance variable\n",
    "        print(self.name, \"created\")\n",
    "\n",
    "emp1 = Employee(\"Jhon\") #Instance 1\n",
    "emp2 = Employee(\"David\")#Instance 2"
   ]
  },
  {
   "cell_type": "markdown",
   "id": "a6ee341b",
   "metadata": {},
   "source": [
    "# Instance Method"
   ]
  },
  {
   "cell_type": "markdown",
   "id": "58bdaaa7",
   "metadata": {},
   "source": [
    "<p>Instance Method হচ্ছে এমন একটি method যেটা call করার জন্য একটা object তৈরী করতে হবে। প্রতিটা Instance method তার ক্লাসের অন্য attribute গুলোকে access করার জন্য self আরগুমে্নট নিবে।</p>"
   ]
  },
  {
   "cell_type": "code",
   "execution_count": 9,
   "id": "c3ffefc9",
   "metadata": {},
   "outputs": [
    {
     "name": "stdout",
     "output_type": "stream",
     "text": [
      "Jhon 35\n",
      "David 69\n"
     ]
    }
   ],
   "source": [
    "#এখানে Instance Method রয়েছে\n",
    "class Employee:\n",
    "    #parameterized constructor\n",
    "    def __init__(self,name,no):\n",
    "        self.no = no #instance variable\n",
    "        self.name = name #instance variable\n",
    "    #Instance Method\n",
    "    def display(self):\n",
    "        print(self.name, self.no)\n",
    "\n",
    "emp1 = Employee(\"Jhon\", 35)  #Instance 1\n",
    "emp2 = Employee(\"David\", 69) #Instance 2\n",
    "emp1.display()\n",
    "emp2.display()"
   ]
  }
 ],
 "metadata": {
  "kernelspec": {
   "display_name": "Python 3 (ipykernel)",
   "language": "python",
   "name": "python3"
  },
  "language_info": {
   "codemirror_mode": {
    "name": "ipython",
    "version": 3
   },
   "file_extension": ".py",
   "mimetype": "text/x-python",
   "name": "python",
   "nbconvert_exporter": "python",
   "pygments_lexer": "ipython3",
   "version": "3.10.0"
  }
 },
 "nbformat": 4,
 "nbformat_minor": 5
}
